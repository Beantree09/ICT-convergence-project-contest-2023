{
  "nbformat": 4,
  "nbformat_minor": 0,
  "metadata": {
    "colab": {
      "provenance": [],
      "mount_file_id": "1Mzvah_WVguoCzQrfeDoG-BH1D9totaRp",
      "authorship_tag": "ABX9TyNzFaF3/FuKdgAzXbtJilkb",
      "include_colab_link": true
    },
    "kernelspec": {
      "name": "python3",
      "display_name": "Python 3"
    },
    "language_info": {
      "name": "python"
    }
  },
  "cells": [
    {
      "cell_type": "markdown",
      "metadata": {
        "id": "view-in-github",
        "colab_type": "text"
      },
      "source": [
        "<a href=\"https://colab.research.google.com/github/KimMin-Gwan/ICT-convergence-project-contest-2023/blob/main/tensorflow%EB%A1%9C_%EB%B0%94%EA%BE%B8%EA%B8%B0.ipynb\" target=\"_parent\"><img src=\"https://colab.research.google.com/assets/colab-badge.svg\" alt=\"Open In Colab\"/></a>"
      ]
    },
    {
      "cell_type": "code",
      "execution_count": 1,
      "metadata": {
        "id": "XbRbZacU40P9"
      },
      "outputs": [],
      "source": [
        "import cv2\n",
        "import numpy as np\n",
        "import os\n",
        "\n",
        "import matplotlib.pyplot as plt\n",
        "import glob\n",
        "\n",
        "import tensorflow as tf"
      ]
    },
    {
      "cell_type": "code",
      "source": [
        "# model\n",
        "model = tf.keras.Sequential([\n",
        "    # first conv layer\n",
        "    # input shape = (img_rows, img_cols, 1)\n",
        "    tf.keras.layers.Conv2D(32, kernel_size=(3, 3), activation='relu',input_shape=(100,120, 3)),\n",
        "    tf.keras.layers.BatchNormalization(),\n",
        "    tf.keras.layers.MaxPooling2D(pool_size=(2, 2)),\n",
        "    tf.keras.layers.Dropout(0.25),\n",
        "\n",
        "    # second conv layer\n",
        "    tf.keras.layers.Conv2D(64, kernel_size=(3, 3), activation='relu'),\n",
        "    tf.keras.layers.BatchNormalization(),\n",
        "    tf.keras.layers.MaxPooling2D(pool_size=(2, 2)),\n",
        "    tf.keras.layers.Dropout(0.25),\n",
        "\n",
        "    # flatten and put a fully connected layer\n",
        "    tf.keras.layers.Flatten(),\n",
        "    tf.keras.layers.Dense(128, activation='relu'), # fully connected\n",
        "    tf.keras.layers.Dropout(0.5),\n",
        "\n",
        "    # softmax layer\n",
        "    tf.keras.layers.Dense(6, activation='softmax')\n",
        "])"
      ],
      "metadata": {
        "id": "kbedpQsYbEiW"
      },
      "execution_count": 2,
      "outputs": []
    },
    {
      "cell_type": "code",
      "source": [
        "model.compile(\n",
        "  loss=\"sparse_categorical_crossentropy\",\n",
        "  optimizer=\"adam\",\n",
        "  metrics=['accuracy']\n",
        ")\n",
        "model.summary()"
      ],
      "metadata": {
        "id": "EtIt6_Cf5JNv"
      },
      "execution_count": null,
      "outputs": []
    },
    {
      "cell_type": "code",
      "source": [
        "train_ds = tf.keras.preprocessing.image_dataset_from_directory(\n",
        " \"/content/drive/MyDrive/공부(개인)/인공지능/ICT/data/\",\n",
        "  image_size=(100,120),\n",
        "  batch_size=128, \n",
        "  subset=\"training\",\n",
        "  validation_split=0.2,\n",
        "  seed=1234\n",
        ")\n",
        "\n",
        "val_ds = tf.keras.preprocessing.image_dataset_from_directory(\n",
        "  \"/content/drive/MyDrive/공부(개인)/인공지능/ICT/data/\",\n",
        "  image_size=(100,120),\n",
        "  batch_size=128, \n",
        "  subset=\"training\",\n",
        "  validation_split=0.2,\n",
        "  seed=1234\n",
        ")"
      ],
      "metadata": {
        "id": "uvAX8HcbTToE"
      },
      "execution_count": null,
      "outputs": []
    },
    {
      "cell_type": "code",
      "source": [
        "model.fit(train_ds,\n",
        "          batch_size=128,\n",
        "          epochs=5,\n",
        "          verbose=1,\n",
        "          validation_data=(val_ds))"
      ],
      "metadata": {
        "id": "eGkGhDFy_OPW"
      },
      "execution_count": null,
      "outputs": []
    },
    {
      "cell_type": "code",
      "source": [
        "#model.save(\"hand_gesture_recognition.h5\")"
      ],
      "metadata": {
        "id": "6sKQaM6F_PTf"
      },
      "execution_count": 7,
      "outputs": []
    }
  ]
}