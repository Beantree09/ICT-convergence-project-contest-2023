{
  "nbformat": 4,
  "nbformat_minor": 0,
  "metadata": {
    "colab": {
      "provenance": [],
      "mount_file_id": "1Mzvah_WVguoCzQrfeDoG-BH1D9totaRp",
      "authorship_tag": "ABX9TyMXueoo+6b4OqKCL4VfEvQC",
      "include_colab_link": true
    },
    "kernelspec": {
      "name": "python3",
      "display_name": "Python 3"
    },
    "language_info": {
      "name": "python"
    }
  },
  "cells": [
    {
      "cell_type": "markdown",
      "metadata": {
        "id": "view-in-github",
        "colab_type": "text"
      },
      "source": [
        "<a href=\"https://colab.research.google.com/github/KimMin-Gwan/ICT-convergence-project-contest-2023/blob/main/tensorflow%EB%A1%9C_%EB%B0%94%EA%BE%B8%EA%B8%B0.ipynb\" target=\"_parent\"><img src=\"https://colab.research.google.com/assets/colab-badge.svg\" alt=\"Open In Colab\"/></a>"
      ]
    },
    {
      "cell_type": "code",
      "execution_count": 68,
      "metadata": {
        "id": "XbRbZacU40P9"
      },
      "outputs": [],
      "source": [
        "import cv2\n",
        "import numpy as np\n",
        "import os\n",
        "\n",
        "import matplotlib.pyplot as plt\n",
        "import glob\n",
        "\n",
        "import tensorflow as tf"
      ]
    },
    {
      "cell_type": "code",
      "source": [
        "# model\n",
        "model = tf.keras.Sequential([\n",
        "    # first conv layer\n",
        "    # input shape = (img_rows, img_cols, 1)\n",
        "    tf.keras.layers.Conv2D(32, kernel_size=(3, 3), activation='relu',input_shape=(100,120, 3)),\n",
        "    tf.keras.layers.BatchNormalization(),\n",
        "    tf.keras.layers.MaxPooling2D(pool_size=(2, 2)),\n",
        "    tf.keras.layers.Dropout(0.25),\n",
        "\n",
        "    # second conv layer\n",
        "    tf.keras.layers.Conv2D(64, kernel_size=(3, 3), activation='relu'),\n",
        "    tf.keras.layers.BatchNormalization(),\n",
        "    tf.keras.layers.MaxPooling2D(pool_size=(2, 2)),\n",
        "    tf.keras.layers.Dropout(0.25),\n",
        "\n",
        "    # flatten and put a fully connected layer\n",
        "    tf.keras.layers.Flatten(),\n",
        "    tf.keras.layers.Dense(128, activation='relu'), # fully connected\n",
        "    tf.keras.layers.Dropout(0.5),\n",
        "\n",
        "    # softmax layer\n",
        "    tf.keras.layers.Dense(6, activation='softmax')\n",
        "])"
      ],
      "metadata": {
        "id": "kbedpQsYbEiW"
      },
      "execution_count": 69,
      "outputs": []
    },
    {
      "cell_type": "code",
      "source": [
        "model.compile(\n",
        "  loss=\"sparse_categorical_crossentropy\",\n",
        "  optimizer=\"adam\",\n",
        "  metrics=['accuracy']\n",
        ")\n",
        "model.summary()"
      ],
      "metadata": {
        "id": "EtIt6_Cf5JNv",
        "colab": {
          "base_uri": "https://localhost:8080/"
        },
        "outputId": "e4656745-5e5b-4fc2-9b58-09c0d556085f"
      },
      "execution_count": 70,
      "outputs": [
        {
          "output_type": "stream",
          "name": "stdout",
          "text": [
            "Model: \"sequential_1\"\n",
            "_________________________________________________________________\n",
            " Layer (type)                Output Shape              Param #   \n",
            "=================================================================\n",
            " conv2d_2 (Conv2D)           (None, 98, 118, 32)       896       \n",
            "                                                                 \n",
            " batch_normalization_2 (Batc  (None, 98, 118, 32)      128       \n",
            " hNormalization)                                                 \n",
            "                                                                 \n",
            " max_pooling2d_2 (MaxPooling  (None, 49, 59, 32)       0         \n",
            " 2D)                                                             \n",
            "                                                                 \n",
            " dropout_3 (Dropout)         (None, 49, 59, 32)        0         \n",
            "                                                                 \n",
            " conv2d_3 (Conv2D)           (None, 47, 57, 64)        18496     \n",
            "                                                                 \n",
            " batch_normalization_3 (Batc  (None, 47, 57, 64)       256       \n",
            " hNormalization)                                                 \n",
            "                                                                 \n",
            " max_pooling2d_3 (MaxPooling  (None, 23, 28, 64)       0         \n",
            " 2D)                                                             \n",
            "                                                                 \n",
            " dropout_4 (Dropout)         (None, 23, 28, 64)        0         \n",
            "                                                                 \n",
            " flatten_1 (Flatten)         (None, 41216)             0         \n",
            "                                                                 \n",
            " dense_2 (Dense)             (None, 128)               5275776   \n",
            "                                                                 \n",
            " dropout_5 (Dropout)         (None, 128)               0         \n",
            "                                                                 \n",
            " dense_3 (Dense)             (None, 6)                 774       \n",
            "                                                                 \n",
            "=================================================================\n",
            "Total params: 5,296,326\n",
            "Trainable params: 5,296,134\n",
            "Non-trainable params: 192\n",
            "_________________________________________________________________\n"
          ]
        }
      ]
    },
    {
      "cell_type": "code",
      "source": [
        "train_ds = tf.keras.preprocessing.image_dataset_from_directory(\n",
        " \"/content/drive/MyDrive/공부(개인)/인공지능/ICT/data/\",\n",
        "  image_size=(100,120),\n",
        "  batch_size=128, \n",
        "  subset=\"training\",\n",
        "  validation_split=0.2,\n",
        "  seed=1234\n",
        ")\n",
        "\n",
        "val_ds = tf.keras.preprocessing.image_dataset_from_directory(\n",
        "  \"/content/drive/MyDrive/공부(개인)/인공지능/ICT/data/\",\n",
        "  image_size=(100,120),\n",
        "  batch_size=128, \n",
        "  subset=\"validation\",\n",
        "  validation_split=0.2,\n",
        "  seed=1234\n",
        ")"
      ],
      "metadata": {
        "id": "uvAX8HcbTToE",
        "colab": {
          "base_uri": "https://localhost:8080/"
        },
        "outputId": "b7c06eb9-4b43-4ca7-e53d-3769cfaf6f8c"
      },
      "execution_count": 71,
      "outputs": [
        {
          "output_type": "stream",
          "name": "stdout",
          "text": [
            "Found 10321 files belonging to 6 classes.\n",
            "Using 8257 files for training.\n",
            "Found 10321 files belonging to 6 classes.\n",
            "Using 2064 files for validation.\n"
          ]
        }
      ]
    },
    {
      "cell_type": "code",
      "source": [
        "model.fit(train_ds,\n",
        "          batch_size=128,\n",
        "          epochs=5,\n",
        "          verbose=1,\n",
        "          validation_data=(val_ds))"
      ],
      "metadata": {
        "id": "eGkGhDFy_OPW",
        "colab": {
          "base_uri": "https://localhost:8080/"
        },
        "outputId": "5d115e95-4b10-4611-b836-d89ddc3d108d"
      },
      "execution_count": 72,
      "outputs": [
        {
          "output_type": "stream",
          "name": "stdout",
          "text": [
            "Epoch 1/5\n",
            "65/65 [==============================] - 170s 3s/step - loss: 0.9245 - accuracy: 0.8828 - val_loss: 0.0118 - val_accuracy: 0.9952\n",
            "Epoch 2/5\n",
            "65/65 [==============================] - 152s 2s/step - loss: 0.0725 - accuracy: 0.9755 - val_loss: 0.0011 - val_accuracy: 1.0000\n",
            "Epoch 3/5\n",
            "65/65 [==============================] - 163s 2s/step - loss: 0.0280 - accuracy: 0.9891 - val_loss: 1.2152e-04 - val_accuracy: 1.0000\n",
            "Epoch 4/5\n",
            "65/65 [==============================] - 165s 3s/step - loss: 0.0368 - accuracy: 0.9889 - val_loss: 0.0026 - val_accuracy: 0.9990\n",
            "Epoch 5/5\n",
            "65/65 [==============================] - 165s 3s/step - loss: 0.0265 - accuracy: 0.9916 - val_loss: 1.3775e-04 - val_accuracy: 1.0000\n"
          ]
        },
        {
          "output_type": "execute_result",
          "data": {
            "text/plain": [
              "<keras.callbacks.History at 0x7f369427f820>"
            ]
          },
          "metadata": {},
          "execution_count": 72
        }
      ]
    },
    {
      "cell_type": "code",
      "source": [
        "class_names = train_ds.class_names\n",
        "print(class_names)"
      ],
      "metadata": {
        "colab": {
          "base_uri": "https://localhost:8080/"
        },
        "id": "PY1Z2l40YBsV",
        "outputId": "f715f9c9-832f-4533-ea55-1c06a7716693"
      },
      "execution_count": 73,
      "outputs": [
        {
          "output_type": "stream",
          "name": "stdout",
          "text": [
            "['blank', 'fist', 'five', 'ok', 'thumbsdown', 'thumbsup']\n"
          ]
        }
      ]
    },
    {
      "cell_type": "code",
      "source": [
        "#model.save(\"hand_gesture_recognition.h5\")"
      ],
      "metadata": {
        "id": "6sKQaM6F_PTf"
      },
      "execution_count": null,
      "outputs": []
    }
  ]
}