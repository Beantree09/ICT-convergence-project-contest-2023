{
  "nbformat": 4,
  "nbformat_minor": 0,
  "metadata": {
    "colab": {
      "provenance": [],
      "mount_file_id": "16qJeAegNENXDbAOJHC_M5DGxArQifNOD",
      "authorship_tag": "ABX9TyP/fbJM8xxQSJ8ZxCQxm6w9",
      "include_colab_link": true
    },
    "kernelspec": {
      "name": "python3",
      "display_name": "Python 3"
    },
    "language_info": {
      "name": "python"
    }
  },
  "cells": [
    {
      "cell_type": "markdown",
      "metadata": {
        "id": "view-in-github",
        "colab_type": "text"
      },
      "source": [
        "<a href=\"https://colab.research.google.com/github/Vespoi/ICT-convergence-project-contest-2023/blob/main/%EC%98%81%EC%83%81_%ED%81%AC%EB%A1%A4%EB%A7%81.ipynb\" target=\"_parent\"><img src=\"https://colab.research.google.com/assets/colab-badge.svg\" alt=\"Open In Colab\"/></a>"
      ]
    },
    {
      "cell_type": "code",
      "execution_count": null,
      "metadata": {
        "id": "MyRmcpk6XxBt"
      },
      "outputs": [],
      "source": [
        "import urllib.request\n",
        "import cv2\n"
      ]
    },
    {
      "cell_type": "code",
      "source": [
        "url = \"http://3f1b-34-143-190-140.ngrok.io/test.mp4\"\n",
        "path = \"/content/drive/MyDrive/공부(개인)/인공지능/ICT/저장용/\" + \"test.mp4\"\n",
        "#savename = 'test.mp4'\n",
        "\n",
        "urllib.request.urlretrieve(url,path)"
      ],
      "metadata": {
        "id": "xDwwUgrAYkDv"
      },
      "execution_count": null,
      "outputs": []
    }
  ]
}