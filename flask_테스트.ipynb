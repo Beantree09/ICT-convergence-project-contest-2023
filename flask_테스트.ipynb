{
  "cells": [
    {
      "cell_type": "markdown",
      "metadata": {
        "id": "view-in-github",
        "colab_type": "text"
      },
      "source": [
        "<a href=\"https://colab.research.google.com/github/Vespoi/ICT-convergence-project-contest-2023/blob/main/flask_%ED%85%8C%EC%8A%A4%ED%8A%B8.ipynb\" target=\"_parent\"><img src=\"https://colab.research.google.com/assets/colab-badge.svg\" alt=\"Open In Colab\"/></a>"
      ]
    },
    {
      "cell_type": "code",
      "execution_count": null,
      "metadata": {
        "id": "9Lr0bbAOAqdt"
      },
      "outputs": [],
      "source": [
        "!pip install pyngrok==4.1.1\n",
        "!pip install flask_ngrok"
      ]
    },
    {
      "cell_type": "code",
      "source": [
        "!ngrok authtoken 2M2aYHVJuodsw7o5AmG9ShOtLe4_5ZSp1zyHTMHdkDipx6w5C"
      ],
      "metadata": {
        "id": "rwR5RjBAMjO7",
        "colab": {
          "base_uri": "https://localhost:8080/"
        },
        "outputId": "feca1f29-1701-4848-b04f-07778913824b"
      },
      "execution_count": null,
      "outputs": [
        {
          "output_type": "stream",
          "name": "stdout",
          "text": [
            "Authtoken saved to configuration file: /root/.ngrok2/ngrok.yml\n"
          ]
        }
      ]
    },
    {
      "cell_type": "code",
      "execution_count": null,
      "metadata": {
        "id": "sTd2D6MP8nWE"
      },
      "outputs": [],
      "source": [
        "from flask import Flask, jsonify, request\n",
        "from flask_ngrok import run_with_ngrok\n",
        "from flask import Flask, request, render_template, url_for\n",
        "\n",
        "TEMPLATE_FOLDER = '/content/drive/MyDrive/공부(개인)/인공지능/ICT/templates'\n",
        "app = Flask(__name__,template_folder=TEMPLATE_FOLDER)\n",
        "run_with_ngrok(app)\n",
        "\n",
        "@app.route(\"/\")\n",
        "# def hello():\n",
        "#    return \"Hello World!! from Google Colab\"\n",
        "# def index():\n",
        "#     return render_template(\"index.html\")\n",
        "def get():\n",
        "    return render_template('video_test.html')\n",
        "  \n",
        "# def index():\n",
        "#     return render_template('video_test.html', video_path='/content/drive/MyDrive/공부(개인)/인공지능/ICT/templates/test.mp4')\n",
        "\n",
        "\n",
        "if __name__ == '__main__':\n",
        "  app.run()"
      ]
    }
  ],
  "metadata": {
    "accelerator": "GPU",
    "colab": {
      "provenance": [],
      "mount_file_id": "13uQC-u2bIiFN5F4ofrOSH44I4j2-J-Fl",
      "authorship_tag": "ABX9TyP2rXg7SbORwiGbgYGGyRSz",
      "include_colab_link": true
    },
    "gpuClass": "standard",
    "kernelspec": {
      "display_name": "Python 3",
      "name": "python3"
    },
    "language_info": {
      "name": "python"
    }
  },
  "nbformat": 4,
  "nbformat_minor": 0
}